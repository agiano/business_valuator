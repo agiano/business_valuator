{
 "cells": [
  {
   "cell_type": "code",
   "execution_count": 1,
   "metadata": {},
   "outputs": [
    {
     "name": "stdout",
     "output_type": "stream",
     "text": [
      "{'Information': 'Thank you for using Alpha Vantage! Our standard API rate limit is 25 requests per day. Please subscribe to any of the premium plans at https://www.alphavantage.co/premium/ to instantly remove all daily rate limits.'}\n"
     ]
    }
   ],
   "source": [
    "# return suggested tickers from search\n",
    "\n",
    "import requests\n",
    "import json\n",
    "import pandas as pd\n",
    "\n",
    "key = \"3SK9BB22RHSIBTQ3\"\n",
    "\n",
    "keyword = \"apple\" # what user types in search bar\n",
    "\n",
    "url = f'https://www.alphavantage.co/query?function=SYMBOL_SEARCH&keywords={keyword}&apikey={key}'\n",
    "r = requests.get(url)\n",
    "data = r.json()\n",
    "\n",
    "print(data)"
   ]
  },
  {
   "cell_type": "code",
   "execution_count": 2,
   "metadata": {},
   "outputs": [],
   "source": [
    "# print json data\n",
    "\n",
    "def print_json(data, indent=0):\n",
    "    if isinstance(data, dict):\n",
    "        for key, value in data.items():\n",
    "            print(\" \" * indent + str(key) + \":\")\n",
    "            print_json(value, indent + 4)\n",
    "    elif isinstance(data, list):\n",
    "        for item in data:\n",
    "            print_json(item, indent + 4)\n",
    "    else:\n",
    "        print(\" \" * indent + str(data))"
   ]
  },
  {
   "cell_type": "code",
   "execution_count": 4,
   "metadata": {},
   "outputs": [
    {
     "name": "stdout",
     "output_type": "stream",
     "text": [
      "{'Information': 'Thank you for using Alpha Vantage! Our standard API rate limit is 25 requests per day. Please subscribe to any of the premium plans at https://www.alphavantage.co/premium/ to instantly remove all daily rate limits.'}\n"
     ]
    }
   ],
   "source": [
    "# return recent financial statement information\n",
    "\n",
    "symbol = \"AAPL\"\n",
    "\n",
    "# Income statement\n",
    "\n",
    "url = f'https://www.alphavantage.co/query?function=INCOME_STATEMENT&symbol={symbol}&apikey={key}'\n",
    "r = requests.get(url)\n",
    "data = r.json()\n",
    "\n",
    "print(data)\n",
    "\n",
    "# print(\"JSON dictionary keys: \")\n",
    "# for key in data:\n",
    "#   print(key)\n",
    "# print(\"\\n\")\n",
    "\n",
    "# # print_json(data)\n",
    "\n",
    "# annual_reports = data[\"annualReports\"]\n",
    "# df = pd.DataFrame(annual_reports)\n",
    "# list(df.columns)\n",
    "\n",
    "\n"
   ]
  },
  {
   "cell_type": "code",
   "execution_count": null,
   "metadata": {},
   "outputs": [],
   "source": []
  },
  {
   "cell_type": "code",
   "execution_count": null,
   "metadata": {},
   "outputs": [],
   "source": [
    "# Balance Sheet\n",
    "\n",
    "url = f'https://www.alphavantage.co/query?function=BALANCE_SHEET&symbol={symbol}&apikey={key}'\n",
    "r = requests.get(url)\n",
    "data = r.json()\n",
    "\n",
    "print(\"balance sheet: \")\n",
    "print(data)\n",
    "\n",
    "\n",
    "# Cash Flow\n",
    "\n",
    "url = f'https://www.alphavantage.co/query?function=CASH_FLOW&symbol={symbol}&apikey={key}'\n",
    "r = requests.get(url)\n",
    "data = r.json()\n",
    "\n",
    "print(\"cash flow: \")\n",
    "print(data)"
   ]
  }
 ],
 "metadata": {
  "kernelspec": {
   "display_name": "base",
   "language": "python",
   "name": "python3"
  },
  "language_info": {
   "codemirror_mode": {
    "name": "ipython",
    "version": 3
   },
   "file_extension": ".py",
   "mimetype": "text/x-python",
   "name": "python",
   "nbconvert_exporter": "python",
   "pygments_lexer": "ipython3",
   "version": "3.11.9"
  }
 },
 "nbformat": 4,
 "nbformat_minor": 2
}
